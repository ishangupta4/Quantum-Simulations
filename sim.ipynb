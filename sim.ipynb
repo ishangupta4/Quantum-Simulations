{
 "cells": [
  {
   "cell_type": "code",
   "execution_count": 12,
   "source": [
    "from qiskit import QuantumCircuit, execute, Aer, QuantumRegister\n",
    "from qiskit.tools.jupyter import *\n",
    "from qiskit.visualization import *\n",
    "import numpy as np\n",
    "from qiskit.converters import circuit_to_gate\n",
    "from qiskit.circuit.library.standard_gates import ZGate\n",
    "import random\n",
    "from qiskit import IBMQ, transpile"
   ],
   "outputs": [],
   "metadata": {}
  },
  {
   "cell_type": "code",
   "execution_count": null,
   "source": [
    "IBMQ.save_account('API_TOKEN')\n",
    "provider = IBMQ.load_account()"
   ],
   "outputs": [],
   "metadata": {}
  },
  {
   "cell_type": "code",
   "execution_count": 21,
   "source": [
    "backend_service = provider.service('backend')\n",
    "backends = provider.backends()\n",
    "simulator_backend = provider.get_backend('simulator_mps') #name of the backend"
   ],
   "outputs": [],
   "metadata": {}
  },
  {
   "cell_type": "code",
   "execution_count": 15,
   "source": [
    "def oracle(n, targets):\n",
    "    '''\n",
    "    Given the number of qubits \"n\" and a list of target states \"targets\", the function returns the quantum circuit \n",
    "    for the oracle.\n",
    "    '''\n",
    "    qbits = QuantumRegister(n,'q')\n",
    "    circ = QuantumCircuit(qbits, name=\"Oracle\")\n",
    "    \n",
    "    # Creating a sequential circuit for each target state.\n",
    "    for target in targets:\n",
    "        \n",
    "        # Each string representing a target state is reversed so that the indexing matches with the indices of\n",
    "        # the corresponding qubits.\n",
    "        target = list(target)\n",
    "        target.reverse()\n",
    "        target = ''.join(target)\n",
    "\n",
    "        # Flip zero bits\n",
    "        for i in range(len(target)):\n",
    "            if target[i]=='0':\n",
    "                circ.x(i)\n",
    "\n",
    "        # Apply a n-1 CZ\n",
    "        CZ = ZGate().control(n-1)\n",
    "        circ.append(CZ, qbits)\n",
    "\n",
    "        # Flip back\n",
    "        for i in range(len(target)):\n",
    "            if target[i]=='0':\n",
    "                circ.x(i)\n",
    "                \n",
    "# Uncomment the following line if you the circuit to be converted to a gate. This step is not essential to the\n",
    "# function of the quantum circuit.\n",
    "#    circ = circuit_to_gate(circ)\n",
    "            \n",
    "    return circ"
   ],
   "outputs": [],
   "metadata": {}
  },
  {
   "cell_type": "code",
   "execution_count": 16,
   "source": [
    "def diffusion(n):\n",
    "    '''\n",
    "    Given the number of qubits \"n\", the function returns the circuit for the n-qubit amplification operation.\n",
    "    '''\n",
    "    qbits = QuantumRegister(n,'q')\n",
    "    circ = QuantumCircuit(qbits, name=\"diffusion\")\n",
    "    \n",
    "    circ.h(qbits)\n",
    "    # Call the oracle function with target state set to the n-qubit zero state.\n",
    "    circ.append(oracle(n,['0'*n]), qbits)\n",
    "    circ.h(qbits)\n",
    "    \n",
    "    return circ"
   ],
   "outputs": [],
   "metadata": {}
  },
  {
   "cell_type": "code",
   "execution_count": 17,
   "source": [
    "def grover(n,P, oracle):\n",
    "    '''\n",
    "    The \"grover\" function returns the quantum circuit to implement Grover's search algorithm for an \"n\"-qubit \n",
    "    system to search for \"m\" targets. The argument \"oracle\" is the quantum circuit for the Oracle for the\n",
    "    target state/states. The argument \"threshold\" is the user-given threshold on the success probability. The \n",
    "    default value of \"threshold is zero.\"\n",
    "    '''\n",
    "    qbits = QuantumRegister(n,'q')\n",
    "    circ = QuantumCircuit(n, name=\"Grover\")\n",
    "    \n",
    "    # Initial state: Prepare equal superposition\n",
    "    circ.h(qbits)\n",
    "    \n",
    "    \n",
    "    # Append the oracle followed by diffusion operation k number of times.\n",
    "    for i in range(int(3/P)):\n",
    "        if random.uniform(0,1)<=(1-P):\n",
    "            circ.append(oracle, qbits)\n",
    "            circ.append(diffusion(n), qbits)\n",
    "        else:\n",
    "            break\n",
    "    \n",
    "    return circ"
   ],
   "outputs": [],
   "metadata": {}
  },
  {
   "cell_type": "code",
   "execution_count": 4,
   "source": [
    "def rand_key(p):\n",
    "\tkey1 = \"\"\n",
    "\tfor i in range(p):\n",
    "\t\t\n",
    "\t\ttemp = str(random.randint(0, 1))\n",
    "\t\tkey1 += temp\n",
    "\treturn(key1)"
   ],
   "outputs": [],
   "metadata": {}
  },
  {
   "cell_type": "code",
   "execution_count": null,
   "source": [
    "n= 8   # Set the number of qubits.\n",
    "tar1 = rand_key(n)\n",
    "tars = [rand_key]    # \"tars\" is a list of binary strings for all the target states.\n",
    "P=0.05\n",
    "#iterations = [3/P]      #set the iterations\n",
    "\n",
    "# for itr in iterations:\n",
    "form = f'{{0:0{str(n)}b}}'    # Format to convert decimal number to n-digit binary string.\n",
    "all_states = [form.format(i) for i in range(2**n)]    # A list of all possible orthogonal states\n",
    "\n",
    "orc = oracle(n, tars)    # The circuit for Oracle given the target states in the list tars.\n",
    "\n",
    "# Construction of the circuit for Grover's search.\n",
    "circuit = grover(n,P, orc)\n",
    "\n",
    "# Applying projective measurement to each qubit at the end of the circuit.\n",
    "circuit.measure_all()\n",
    "\n",
    "# Running the \"circuit\" using the QASM simulator.\n",
    "from qiskit.tools.monitor import job_monitor\n",
    "transpiled_grover_circuit = transpile(circuit, simulator_backend, optimization_level=3)\n",
    "job = simulator_backend.run(transpiled_grover_circuit,shots=1000)\n",
    "job_monitor(job, interval=2)\n",
    "result = job.result()\n",
    "count = result.get_counts(circuit)    # \"count\" is a dict of counts after the projective measurements.\n",
    "\n",
    "#if tars[0] is present in count then print is value else print 0\n",
    "if tars[0] in count.keys():\n",
    "    count[tars[0]]/1000\n",
    "else:\n",
    "    print(0)"
   ],
   "outputs": [],
   "metadata": {}
  },
  {
   "cell_type": "code",
   "execution_count": null,
   "source": [],
   "outputs": [],
   "metadata": {}
  }
 ],
 "metadata": {
  "orig_nbformat": 4,
  "language_info": {
   "name": "python",
   "version": "3.8.10",
   "mimetype": "text/x-python",
   "codemirror_mode": {
    "name": "ipython",
    "version": 3
   },
   "pygments_lexer": "ipython3",
   "nbconvert_exporter": "python",
   "file_extension": ".py"
  },
  "kernelspec": {
   "name": "python3",
   "display_name": "Python 3.8.10 64-bit"
  },
  "interpreter": {
   "hash": "916dbcbb3f70747c44a77c7bcd40155683ae19c65e1c03b4aa3499c5328201f1"
  }
 },
 "nbformat": 4,
 "nbformat_minor": 2
}